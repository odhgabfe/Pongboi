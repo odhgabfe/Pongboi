{
 "cells": [
  {
   "cell_type": "code",
   "execution_count": 1,
   "metadata": {},
   "outputs": [],
   "source": [
    "import turtle\n",
    "#import time\n",
    "\n",
    "wn = turtle.Screen()\n",
    "wn.title(\"Pong\")\n",
    "wn.setup(800, 600)\n",
    "wn.bgcolor(\"black\")\n",
    "\n",
    "wn.tracer(0)"
   ]
  },
  {
   "cell_type": "code",
   "execution_count": 2,
   "metadata": {},
   "outputs": [],
   "source": [
    "#Paddle A\n",
    "pad_a = turtle.Turtle()\n",
    "pad_a.speed(0) #highest possible\n",
    "pad_a.shape(\"square\")\n",
    "pad_a.color(\"white\")\n",
    "pad_a.shapesize(stretch_wid = 5, stretch_len = 1)\n",
    "pad_a.penup() #lift it \n",
    "pad_a.goto(-350,0) #move it to this position: left"
   ]
  },
  {
   "cell_type": "code",
   "execution_count": 3,
   "metadata": {},
   "outputs": [],
   "source": [
    "#Paddle B\n",
    "pad_b = turtle.Turtle()\n",
    "pad_b.speed(0) #highest possible\n",
    "pad_b.shape(\"square\")\n",
    "pad_b.color(\"white\")\n",
    "pad_b.shapesize(stretch_wid = 5, stretch_len = 1)\n",
    "pad_b.penup() #lift it \n",
    "pad_b.goto(350,0) #move it to this position: right"
   ]
  },
  {
   "cell_type": "code",
   "execution_count": 4,
   "metadata": {},
   "outputs": [],
   "source": [
    "#Ball\n",
    "ball = turtle.Turtle()\n",
    "ball.speed(0) #highest possible\n",
    "ball.shape(\"square\")\n",
    "ball.color(\"red\")\n",
    "ball.penup() #lift it \n",
    "ball.goto(0,0) #move it to the center\n",
    "\n",
    "#ball differentials\n",
    "ball.dx = 2\n",
    "ball.dy = 2\n"
   ]
  },
  {
   "cell_type": "code",
   "execution_count": 5,
   "metadata": {
    "scrolled": true
   },
   "outputs": [],
   "source": [
    "#Scores:\n",
    "\n",
    "score_a = 0\n",
    "score_b = 0\n",
    "\n",
    "#Write down initial scores:\n",
    "pen = turtle.Turtle()\n",
    "pen.speed(0)\n",
    "pen.color(\"white\")\n",
    "pen.penup()\n",
    "pen.hideturtle()\n",
    "pen.goto(0,260)\n",
    "pen.write(\"Player 1: 0\\tPlayer 2: 0\", align=\"center\", font=(\"Rockwell\",24,\"normal\"))"
   ]
  },
  {
   "cell_type": "code",
   "execution_count": 6,
   "metadata": {},
   "outputs": [],
   "source": [
    "#FUNCTIONS:"
   ]
  },
  {
   "cell_type": "code",
   "execution_count": 7,
   "metadata": {},
   "outputs": [],
   "source": [
    "def pad_a_up():\n",
    "    y = pad_a.ycor()\n",
    "    #y += 30\n",
    "    pad_a.sety(y + 30)\n",
    "    \n",
    "def pad_a_down():\n",
    "    y = pad_a.ycor()\n",
    "    #y -= 30\n",
    "    pad_a.sety(y - 30)"
   ]
  },
  {
   "cell_type": "code",
   "execution_count": 8,
   "metadata": {},
   "outputs": [],
   "source": [
    "def pad_b_up():\n",
    "    y = pad_b.ycor()\n",
    "    #y += 30\n",
    "    pad_b.sety(y + 30)\n",
    "    \n",
    "def pad_b_down():\n",
    "    y = pad_b.ycor()\n",
    "    #y -= 30\n",
    "    pad_b.sety(y - 30)"
   ]
  },
  {
   "cell_type": "code",
   "execution_count": 9,
   "metadata": {},
   "outputs": [],
   "source": [
    "#CALLING YOUR FUNCTIONS\n",
    "wn.listen()\n",
    "wn.onkeypress(pad_a_up, \"w\")\n",
    "wn.onkeypress(pad_a_down, \"s\")\n",
    "wn.onkeypress(pad_b_up, \"Up\")\n",
    "wn.onkeypress(pad_b_down, \"Down\")"
   ]
  },
  {
   "cell_type": "code",
   "execution_count": 10,
   "metadata": {},
   "outputs": [],
   "source": [
    "#Main Game Loop\n",
    "x = True #set your loop to True\n",
    "while x:\n",
    "    wn.update()\n",
    "    #Ball movement\n",
    "    ball.sety(ball.ycor() + ball.dy)\n",
    "    ball.setx(ball.xcor() + ball.dx)\n",
    "    \n",
    "    '''\n",
    "    if ball.xcor() >= 380 or ball.xcor() <= -380:\n",
    "        ball.dx *= -1\n",
    "        \n",
    "    if ball.ycor() >= 280 or ball.ycor() <= -280:\n",
    "        ball.dy *= -1\n",
    "    '''\n",
    "    \n",
    "    #Ball boundary checks\n",
    "    if ball.xcor() >= 380:\n",
    "        score_a += 1\n",
    "        ball.setx(380)\n",
    "        ball.dx *= -1\n",
    "        pen.clear()\n",
    "        pen.write(\"Player 1: {} \\tPlayer 2: {}\".format(score_a, score_b), align=\"center\", font=(\"Rockwell\",24,\"normal\"))\n",
    "        \n",
    "    if ball.xcor() <= -380:\n",
    "        score_b += 1\n",
    "        ball.setx(-380)\n",
    "        ball.dx *= -1\n",
    "        pen.clear()\n",
    "        pen.write(\"Player 1: {} \\tPlayer 2: {}\".format(score_a, score_b), align=\"center\", font=(\"Rockwell\",24,\"normal\"))\n",
    "        \n",
    "    if ball.ycor() >= 280: \n",
    "        ball.sety(280)\n",
    "        ball.dy *= -1\n",
    "        \n",
    "    if ball.ycor() <= -280: \n",
    "        ball.sety(-280)\n",
    "        ball.dy *= -1\n",
    "    \n",
    "    #Ball collides with Paddle A:\n",
    "    if (ball.ycor() <= pad_a.ycor() + 50 and ball.ycor() >= pad_a.ycor() - 50 and ball.xcor() > 335):\n",
    "        ball.setx(320)\n",
    "        ball.dx *= -1\n",
    "    \n",
    "    #Ball collides with Paddle B:\n",
    "    if (ball.ycor() <= pad_b.ycor() + 50 and ball.ycor() >= pad_b.ycor() - 50 and ball.xcor() < -335):\n",
    "        ball.setx(-320)\n",
    "        ball.dx *= -1\n",
    "        \n",
    "    if score_a > 5:\n",
    "        pen.clear()\n",
    "        pen.write(\"Player 1 WINS!\", align=\"center\", font=(\"Rockwell\",24,\"normal\"))\n",
    "        pen.penup()\n",
    "        pen.goto(0,0)\n",
    "        pen.write(\"Click anywhere to exit\", align=\"center\", font=(\"Rockwell\",24,\"normal\"))\n",
    "\n",
    "        #time.sleep(7000)\n",
    "        wn.exitonclick()\n",
    "        x = False #set your loop to False so it stops\n",
    "        \n",
    "    \n",
    "    if score_b > 5:\n",
    "        pen.clear()\n",
    "        pen.write(\"Player 2 WINS!\", align=\"center\", font=(\"Rockwell\",24,\"normal\"))\n",
    "        #time.sleep(7000)\n",
    "        pen.penup()\n",
    "        pen.goto(0,0)\n",
    "        pen.write(\"Click anywhere to exit\", align=\"center\", font=(\"Rockwell\",24,\"normal\"))\n",
    "        wn.exitonclick()\n",
    "        x = False #set your loop to False so it stops\n",
    "        "
   ]
  },
  {
   "cell_type": "code",
   "execution_count": null,
   "metadata": {},
   "outputs": [],
   "source": []
  }
 ],
 "metadata": {
  "kernelspec": {
   "display_name": "Python 3",
   "language": "python",
   "name": "python3"
  },
  "language_info": {
   "codemirror_mode": {
    "name": "ipython",
    "version": 3
   },
   "file_extension": ".py",
   "mimetype": "text/x-python",
   "name": "python",
   "nbconvert_exporter": "python",
   "pygments_lexer": "ipython3",
   "version": "3.7.3"
  }
 },
 "nbformat": 4,
 "nbformat_minor": 2
}
